{
 "cells": [
  {
   "cell_type": "code",
   "execution_count": null,
   "id": "5b4e1e07-d784-4ef1-8a84-4cf9619f1704",
   "metadata": {},
   "outputs": [
    {
     "name": "stdin",
     "output_type": "stream",
     "text": [
      "Enter principal 9\n",
      "Enter rate 6\n",
      "Enter time 3\n"
     ]
    },
    {
     "name": "stdout",
     "output_type": "stream",
     "text": [
      "The total amount including simple interest is 10.62\n"
     ]
    }
   ],
   "source": [
    " # simple interest\n",
    "P = int(input('Enter principal'))\n",
    "R = int(input('Enter rate'))\n",
    "T = int(input('Enter time'))\n",
    "A = P*( 1 + (R / 100)*T)\n",
    "print(\"The total amount including simple interest is\", A)\n",
    "\n",
    "#compound interest\n",
    "P = int(input('Enter principal'))\n",
    "R = int(input('Enter rate'))\n",
    "n = int(input('Enter n value'))\n",
    "t = int(input('Enter t value'))\n",
    "A = P*(1 + (R / n))**(n*t)\n",
    "print(\"The total amount including compound interest is\", A)\n",
    "\n",
    "# annuity plan\n",
    "PMT = int(intput('Enter PMT value'))\n",
    "R = int(iput('Enter rate'))\n",
    "n = int(input('Enter n value'))\n",
    "t = int(input('Enter t value'))\n",
    "A = PMT *  ((1 + (R / n)**(n*t) - 1) / (R / n))\n",
    "print(\"THe total amount including annuity plan is\", A)"
   ]
  },
  {
   "cell_type": "code",
   "execution_count": null,
   "id": "8be05cba-3ec7-482f-bd52-77ad68e05102",
   "metadata": {},
   "outputs": [],
   "source": []
  }
 ],
 "metadata": {
  "kernelspec": {
   "display_name": "Python 3 (ipykernel)",
   "language": "python",
   "name": "python3"
  },
  "language_info": {
   "codemirror_mode": {
    "name": "ipython",
    "version": 3
   },
   "file_extension": ".py",
   "mimetype": "text/x-python",
   "name": "python",
   "nbconvert_exporter": "python",
   "pygments_lexer": "ipython3",
   "version": "3.11.7"
  }
 },
 "nbformat": 4,
 "nbformat_minor": 5
}
