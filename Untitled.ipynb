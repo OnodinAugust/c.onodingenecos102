{
 "cells": [
  {
   "cell_type": "code",
   "execution_count": 16,
   "id": "032fc640-8a92-4fd0-a26a-cdffab203189",
   "metadata": {},
   "outputs": [
    {
     "name": "stdin",
     "output_type": "stream",
     "text": [
      "Enter the name of the club you support:  cirok\n"
     ]
    },
    {
     "ename": "TypeError",
     "evalue": "'str' object is not callable",
     "output_type": "error",
     "traceback": [
      "\u001b[1;31m---------------------------------------------------------------------------\u001b[0m",
      "\u001b[1;31mTypeError\u001b[0m                                 Traceback (most recent call last)",
      "Cell \u001b[1;32mIn[16], line 44\u001b[0m\n\u001b[0;32m     42\u001b[0m \u001b[38;5;28;01mif\u001b[39;00m \u001b[38;5;18m__name__\u001b[39m \u001b[38;5;241m==\u001b[39m \u001b[38;5;124m\"\u001b[39m\u001b[38;5;124m__main__\u001b[39m\u001b[38;5;124m\"\u001b[39m:\n\u001b[0;32m     43\u001b[0m     club_name \u001b[38;5;241m=\u001b[39m \u001b[38;5;28minput\u001b[39m(\u001b[38;5;124m\"\u001b[39m\u001b[38;5;124mEnter the name of the club you support: \u001b[39m\u001b[38;5;124m\"\u001b[39m)\n\u001b[1;32m---> 44\u001b[0m     welcome_fan_page(club_name)\n",
      "\u001b[1;31mTypeError\u001b[0m: 'str' object is not callable"
     ]
    }
   ],
   "source": [
    "from abc import ABC, abstractmethod\n",
    "\n",
    "\n",
    "class Team(ABC):\n",
    "    @abstractmethod\n",
    "    def Fan_page(self):\n",
    "        pass\n",
    "\n",
    "class FC_Cirok(Team):\n",
    "    def Fan_page(self):\n",
    "        print(\"welcome to cirok fan page\")\n",
    "\n",
    "class Madiba_FC(Team):\n",
    "    def Fan_page(self):\n",
    "        print(\"welcome to madiba fan page\")\n",
    "\n",
    "class Blue_Jay_FC(Team):\n",
    "    def Fan_page(self):\n",
    "        print(\"welcome to blue jay's fan page\")\n",
    "\n",
    "class TSG_Walker(Team):\n",
    "    def Fan_page(self):\n",
    "        print(\"welcome to TSG fan page\")\n",
    "\n",
    "    def welcome_fan_page(club_name):\n",
    "        club_name = club_name.lower()  \n",
    "        club = None\n",
    "        if club_name == \"cirok\":\n",
    "            club = FC_Cirok()\n",
    "        elif club_name == \"madiba fc\":\n",
    "            club = Madiba_FC()\n",
    "        elif club_name == \"blue jay fc\":\n",
    "            club = Blue_Jay_FC()\n",
    "        elif club_name == \"tsg walker\":\n",
    "            club = TSG_Walker()\n",
    "        \n",
    "        if club:\n",
    "            club.Fan_Page()\n",
    "        else:\n",
    "            print(\"Club not recognized.\")\n",
    "\n",
    "# Example usage\n",
    "if __name__ == \"__main__\":\n",
    "    club_name = input(\"Enter the name of the club you support: \")\n",
    "    welcome_fan_page(club_name)\n"
   ]
  },
  {
   "cell_type": "code",
   "execution_count": null,
   "id": "4ef1be55-01c4-4dc2-b077-1de57882d960",
   "metadata": {},
   "outputs": [],
   "source": []
  }
 ],
 "metadata": {
  "kernelspec": {
   "display_name": "Python 3 (ipykernel)",
   "language": "python",
   "name": "python3"
  },
  "language_info": {
   "codemirror_mode": {
    "name": "ipython",
    "version": 3
   },
   "file_extension": ".py",
   "mimetype": "text/x-python",
   "name": "python",
   "nbconvert_exporter": "python",
   "pygments_lexer": "ipython3",
   "version": "3.11.7"
  }
 },
 "nbformat": 4,
 "nbformat_minor": 5
}
