{
 "cells": [
  {
   "cell_type": "code",
   "execution_count": 9,
   "id": "40d38ef5-0ade-43bf-9faa-32ccaf1ddafc",
   "metadata": {},
   "outputs": [
    {
     "name": "stdout",
     "output_type": "stream",
     "text": [
      "[101 201 301 401 501]\n",
      "<class 'numpy.ndarray'>\n"
     ]
    }
   ],
   "source": [
    "import numpy as np\n",
    "\n",
    "arr = np.array([101, 201, 301, 401, 501])\n",
    "\n",
    "print(arr)\n",
    "\n",
    "print(type(arr))"
   ]
  },
  {
   "cell_type": "code",
   "execution_count": 15,
   "id": "bba410e6-350e-4a0c-a77d-3ac7d780b44c",
   "metadata": {},
   "outputs": [
    {
     "name": "stdout",
     "output_type": "stream",
     "text": [
      "['Angel' 'Shemi' 'Marvel' 'Linda']\n",
      "[41 32 21 19]\n",
      "{'CSC102': 89, 'MTH 102': 77, 'CHM 102': 69, 'GST 102': 99}\n"
     ]
    }
   ],
   "source": [
    "import numpy as np\n",
    "\n",
    "namelist = ['Angel', \"Shemi\", \"Marvel\", \"Linda\"]\n",
    "\n",
    "ageTuple = (41, 32, 21, 19)\n",
    "\n",
    "gradeDict = {\"CSC102\": 89, \"MTH 102\": 77, \"CHM 102\": 69, \"GST 102\": 99}\n",
    "\n",
    "arr_namelist = np.array(namelist)\n",
    "\n",
    "arr_ageTuple = np.array(ageTuple)\n",
    "\n",
    "arr_gradeDict = np.array(gradeDict)\n",
    "\n",
    "print(arr_namelist)\n",
    "print(arr_ageTuple)\n",
    "print(arr_gradeDict)"
   ]
  },
  {
   "cell_type": "code",
   "execution_count": 18,
   "id": "9c62d917-1c44-4865-bc54-b8aeeed3dd76",
   "metadata": {},
   "outputs": [
    {
     "name": "stdin",
     "output_type": "stream",
     "text": [
      "How many students are in the CSC 102 class? 5\n"
     ]
    },
    {
     "name": "stdout",
     "output_type": "stream",
     "text": [
      "There are 5 students in CSC 102 class\n"
     ]
    }
   ],
   "source": [
    "import numpy as np\n",
    "\n",
    "classNum = int(input(\"How many students are in the CSC 102 class?\"))\n",
    "\n",
    "class_arr = np.array(classNum)\n",
    "\n",
    "if (class_arr == 1):\n",
    "    print(\"There is only \", class_arr, \"student in CSC 102 class\")\n",
    "else:\n",
    "    print(\"There are\", class_arr, \"students in CSC 102 class\" )"
   ]
  },
  {
   "cell_type": "code",
   "execution_count": 20,
   "id": "826df38f-423e-4ab0-9110-0c5a221d58cf",
   "metadata": {},
   "outputs": [
    {
     "name": "stdout",
     "output_type": "stream",
     "text": [
      "[1 2 3 4 5]\n"
     ]
    }
   ],
   "source": [
    "import numpy as np\n",
    "\n",
    "arr = np.array([1, 2, 3, 4, 5])\n",
    "\n",
    "print(arr)"
   ]
  },
  {
   "cell_type": "code",
   "execution_count": 24,
   "id": "c79f68e6-3825-45d7-b8c2-59a2f19850d8",
   "metadata": {},
   "outputs": [
    {
     "name": "stdout",
     "output_type": "stream",
     "text": [
      "[[[1 2 3]\n",
      "  [4 5 6]]\n",
      "\n",
      " [[1 2 3]\n",
      "  [4 5 6]]\n",
      "\n",
      " [[1 2 3]\n",
      "  [4 5 6]]]\n"
     ]
    }
   ],
   "source": [
    "import numpy as np\n",
    "\n",
    "arr = np.array([[[1, 2, 3], [4, 5, 6]], [[1, 2, 3], [4, 5, 6]], [[1, 2, 3], [4, 5, 6]]])\n",
    "\n",
    "print(arr)"
   ]
  },
  {
   "cell_type": "code",
   "execution_count": 27,
   "id": "5bf7a6af-e1dc-4f34-998c-281dfbe404c9",
   "metadata": {},
   "outputs": [
    {
     "name": "stdout",
     "output_type": "stream",
     "text": [
      "0\n",
      "3\n",
      "2\n",
      "1\n"
     ]
    }
   ],
   "source": [
    "import numpy as np\n",
    "\n",
    "a = np.array(42)\n",
    "b = np.array([[[1, 2, 3], [4, 5, 6]], [[1, 2, 3], [4, 5, 6]], [[1, 2, 3], [4, 5, 6]]])\n",
    "c = np.array([[1, 2, 3], [4, 5, 6]])\n",
    "d = np.array([1, 2, 3, 4, 5])\n",
    "\n",
    "\n",
    "print(a.ndim)\n",
    "print(b.ndim)\n",
    "print(c.ndim)\n",
    "print(d.ndim)"
   ]
  },
  {
   "cell_type": "code",
   "execution_count": 29,
   "id": "75f4537f-8cc9-4548-9b2c-0a6319e868bb",
   "metadata": {},
   "outputs": [
    {
     "name": "stdout",
     "output_type": "stream",
     "text": [
      "[[[[[[[[1 2 3 4]]]]]]]]\n",
      "number of dimensions : 8\n"
     ]
    }
   ],
   "source": [
    "import numpy as np\n",
    "\n",
    "arr = np.array([1, 2, 3, 4], ndmin=8)\n",
    "\n",
    "print(arr)\n",
    "print('number of dimensions :', arr.ndim)"
   ]
  },
  {
   "cell_type": "code",
   "execution_count": 32,
   "id": "bae545ef-549d-4c42-b3e8-b8fc64a3ebe5",
   "metadata": {},
   "outputs": [
    {
     "name": "stdout",
     "output_type": "stream",
     "text": [
      "2\n"
     ]
    }
   ],
   "source": [
    "import numpy as np\n",
    "\n",
    "arr = np.array([1, 2, 3, 4])\n",
    "\n",
    "print(arr[1])"
   ]
  },
  {
   "cell_type": "code",
   "execution_count": 38,
   "id": "82bb861e-e1af-47ab-8012-89bf9b6e154c",
   "metadata": {},
   "outputs": [
    {
     "name": "stdout",
     "output_type": "stream",
     "text": [
      "5th element on 2nd row:  [ 6  7  8  9 10]\n"
     ]
    }
   ],
   "source": [
    "import numpy as np\n",
    "\n",
    "arr = np.array([[1,2,3,4,5], [6,7,8,9,10]])\n",
    "\n",
    "print('5th element on 2nd row: ', arr[1])"
   ]
  },
  {
   "cell_type": "code",
   "execution_count": 40,
   "id": "1b715989-686c-4f42-8c95-4cac67ee4341",
   "metadata": {},
   "outputs": [
    {
     "name": "stdout",
     "output_type": "stream",
     "text": [
      "6\n"
     ]
    }
   ],
   "source": [
    "import numpy as np\n",
    "\n",
    "arr = np.array([[[1, 2, 3], [4, 5, 6]], [[7, 8, 9], [10, 11, 12]]])\n",
    "\n",
    "print(arr[0, 1, 2])"
   ]
  },
  {
   "cell_type": "code",
   "execution_count": 43,
   "id": "5c43ea0f-12cc-4790-b3ca-aa30a92226b3",
   "metadata": {},
   "outputs": [
    {
     "name": "stdout",
     "output_type": "stream",
     "text": [
      "Last element from 2nd dim:  10\n"
     ]
    }
   ],
   "source": [
    "import numpy as np\n",
    "\n",
    "arr = np.array([[1, 2, 3, 4, 5], [6, 7, 8, 9, 10]])\n",
    "\n",
    "print('Last element from 2nd dim: ', arr[1, -1])"
   ]
  },
  {
   "cell_type": "code",
   "execution_count": 45,
   "id": "3504fa15-8ae5-409d-9e98-f1465d712b60",
   "metadata": {},
   "outputs": [
    {
     "name": "stdout",
     "output_type": "stream",
     "text": [
      "[2 3 4 5]\n"
     ]
    }
   ],
   "source": [
    "# Slice elements from index 1 to index 5 from the following array:\n",
    "\n",
    "import numpy as np\n",
    "\n",
    "arr = np.array([1, 2, 3, 4, 5, 6, 7])\n",
    "\n",
    "print(arr[1:5])"
   ]
  },
  {
   "cell_type": "code",
   "execution_count": 48,
   "id": "3037f83f-d83a-48e7-85be-286bfb608895",
   "metadata": {},
   "outputs": [
    {
     "name": "stdout",
     "output_type": "stream",
     "text": [
      "[5 6 7]\n"
     ]
    }
   ],
   "source": [
    "# Slice elements from index 4 to the end of the array:\n",
    "\n",
    "import numpy as np\n",
    "\n",
    "arr = np.array([1, 2, 3, 4, 5, 6, 7])\n",
    "\n",
    "print(arr[4:])"
   ]
  },
  {
   "cell_type": "code",
   "execution_count": 49,
   "id": "5cdc835f-332f-4336-a083-b78c77cceb36",
   "metadata": {},
   "outputs": [
    {
     "name": "stdout",
     "output_type": "stream",
     "text": [
      "[1 2 3 4]\n"
     ]
    }
   ],
   "source": [
    "# Slice elements from the beginning to index 4 (not included):\n",
    "\n",
    "import numpy as np\n",
    "\n",
    "arr = np.array([1, 2, 3, 4, 5, 6, 7])\n",
    "\n",
    "print(arr[:4])"
   ]
  },
  {
   "cell_type": "code",
   "execution_count": 53,
   "id": "f7be08f1-53ee-4219-a80c-3ee181cff45d",
   "metadata": {},
   "outputs": [
    {
     "name": "stdout",
     "output_type": "stream",
     "text": [
      "int32\n",
      "<U6\n"
     ]
    }
   ],
   "source": [
    "import numpy as np\n",
    "\n",
    "int_arr = np.array([1, 2, 3, 4])\n",
    "\n",
    "str_arr = np.array(['apple', 'banana', 'cherry'])\n",
    "\n",
    "print(int_arr.dtype)\n",
    "\n",
    "print(str_arr.dtype)"
   ]
  },
  {
   "cell_type": "code",
   "execution_count": 52,
   "id": "3b5e4744-b85f-44b4-8855-f26607109886",
   "metadata": {},
   "outputs": [
    {
     "name": "stdout",
     "output_type": "stream",
     "text": [
      "1 [1 2 3]\n",
      "2 [1 2 3]\n",
      "3 [1 2 3]\n",
      "4 [4 5 6]\n",
      "5 [4 5 6]\n",
      "6 [4 5 6]\n"
     ]
    }
   ],
   "source": [
    "#Iterate on each scalar element of the 2-D array:\n",
    "    \n",
    "import numpy as np\n",
    "\n",
    "arr = np.array([[1, 2, 3], [4, 5, 6]])\n",
    "\n",
    "for x in arr:\n",
    "    for y in x:\n",
    "        print(y,x)"
   ]
  },
  {
   "cell_type": "code",
   "execution_count": 57,
   "id": "7f87aa3f-aaa1-4e62-8823-deb0c0a243c2",
   "metadata": {},
   "outputs": [
    {
     "name": "stdout",
     "output_type": "stream",
     "text": [
      "2\n",
      "4\n",
      "8\n",
      "10\n"
     ]
    }
   ],
   "source": [
    "# Iterate on the elements of the following 3-D array:\n",
    "\n",
    "import numpy as np\n",
    "\n",
    "arr = np.array([[[1, 2, 3], [4, 5, 6]], [[7, 8, 9], [10, 11, 12]]])\n",
    "\n",
    "for x in arr:\n",
    "    print(x[0][1])\n",
    "    print(x[1][0])"
   ]
  },
  {
   "cell_type": "code",
   "execution_count": 60,
   "id": "6370aa1b-7a45-42b4-80da-11acec9eb942",
   "metadata": {},
   "outputs": [
    {
     "name": "stdout",
     "output_type": "stream",
     "text": [
      "[1 2 3 4 5 6]\n"
     ]
    }
   ],
   "source": [
    "# Join two arrays\n",
    "\n",
    "import numpy as np\n",
    "\n",
    "arr1 = np.array([1, 2, 3])\n",
    "\n",
    "arr2 = np.array([4, 5, 6])\n",
    "\n",
    "arr = np.concatenate((arr1, arr2))\n",
    "\n",
    "print(arr)"
   ]
  },
  {
   "cell_type": "code",
   "execution_count": 4,
   "id": "1f89bbdb-96c4-462f-8ee2-829cd8e2da1e",
   "metadata": {},
   "outputs": [
    {
     "name": "stdout",
     "output_type": "stream",
     "text": [
      "[1 2]\n"
     ]
    }
   ],
   "source": [
    "import numpy as np\n",
    "\n",
    "arr = np.array([1, 2, 3, 4, 5, 6])\n",
    "\n",
    "newarr = np.array_split(arr, 3)\n",
    "\n",
    "print(newarr[0])"
   ]
  },
  {
   "cell_type": "code",
   "execution_count": 6,
   "id": "0d11512d-970e-407a-95a2-3ab482c4866e",
   "metadata": {},
   "outputs": [
    {
     "name": "stdout",
     "output_type": "stream",
     "text": [
      "[[1 2]\n",
      " [3 4]]\n"
     ]
    }
   ],
   "source": [
    "import numpy as np\n",
    "\n",
    "arr = np.array([[1, 2], [3, 4], [5, 6], [7, 8], [9, 10], [11, 12]])\n",
    "\n",
    "newarr = np.array_split(arr, 3)\n",
    "\n",
    "print(newarr[0])"
   ]
  },
  {
   "cell_type": "code",
   "execution_count": null,
   "id": "2b092a1b-028f-4276-abb1-37862ffb5065",
   "metadata": {},
   "outputs": [],
   "source": []
  }
 ],
 "metadata": {
  "kernelspec": {
   "display_name": "Python 3 (ipykernel)",
   "language": "python",
   "name": "python3"
  },
  "language_info": {
   "codemirror_mode": {
    "name": "ipython",
    "version": 3
   },
   "file_extension": ".py",
   "mimetype": "text/x-python",
   "name": "python",
   "nbconvert_exporter": "python",
   "pygments_lexer": "ipython3",
   "version": "3.11.7"
  }
 },
 "nbformat": 4,
 "nbformat_minor": 5
}
