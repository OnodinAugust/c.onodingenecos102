{
 "cells": [
  {
   "cell_type": "markdown",
   "id": "00390082-6945-4477-bb28-eeb6960e7135",
   "metadata": {},
   "source": [
    "# project 2"
   ]
  },
  {
   "cell_type": "code",
   "execution_count": 19,
   "id": "c0b73d00-32ac-4066-b4d0-2e9e921ae6c2",
   "metadata": {},
   "outputs": [
    {
     "data": {
      "text/html": [
       "<div>\n",
       "<style scoped>\n",
       "    .dataframe tbody tr th:only-of-type {\n",
       "        vertical-align: middle;\n",
       "    }\n",
       "\n",
       "    .dataframe tbody tr th {\n",
       "        vertical-align: top;\n",
       "    }\n",
       "\n",
       "    .dataframe thead th {\n",
       "        text-align: right;\n",
       "    }\n",
       "</style>\n",
       "<table border=\"1\" class=\"dataframe\">\n",
       "  <thead>\n",
       "    <tr style=\"text-align: right;\">\n",
       "      <th></th>\n",
       "      <th>segments</th>\n",
       "      <th>manufacture and sale</th>\n",
       "      <th>Brands</th>\n",
       "    </tr>\n",
       "  </thead>\n",
       "  <tbody>\n",
       "    <tr>\n",
       "      <th>0</th>\n",
       "      <td>Refreshment Beverages</td>\n",
       "      <td>Bournvita and Hot Chocolate</td>\n",
       "      <td>CADBURY BOURNVITA and CADBURY 3-in-1 HOT CHOCO...</td>\n",
       "    </tr>\n",
       "    <tr>\n",
       "      <th>1</th>\n",
       "      <td>Confectionery</td>\n",
       "      <td>Tom Tom and Buttermint</td>\n",
       "      <td>TOMTOM CLASSIC, TOMTOM STRAWBERRY and BUTTERMINT</td>\n",
       "    </tr>\n",
       "    <tr>\n",
       "      <th>2</th>\n",
       "      <td>Intermediate Cocoa Products</td>\n",
       "      <td>cocoa powder, cocoa butter, cocoa liquor and c...</td>\n",
       "      <td>COCOA POWDER and COCOA BUTTER</td>\n",
       "    </tr>\n",
       "  </tbody>\n",
       "</table>\n",
       "</div>"
      ],
      "text/plain": [
       "                      segments  \\\n",
       "0        Refreshment Beverages   \n",
       "1                Confectionery   \n",
       "2  Intermediate Cocoa Products   \n",
       "\n",
       "                                manufacture and sale  \\\n",
       "0                        Bournvita and Hot Chocolate   \n",
       "1                             Tom Tom and Buttermint   \n",
       "2  cocoa powder, cocoa butter, cocoa liquor and c...   \n",
       "\n",
       "                                              Brands  \n",
       "0  CADBURY BOURNVITA and CADBURY 3-in-1 HOT CHOCO...  \n",
       "1   TOMTOM CLASSIC, TOMTOM STRAWBERRY and BUTTERMINT  \n",
       "2                      COCOA POWDER and COCOA BUTTER  "
      ]
     },
     "execution_count": 19,
     "metadata": {},
     "output_type": "execute_result"
    }
   ],
   "source": [
    "import pandas as pd\n",
    "\n",
    "record = {'segments':[\"Refreshment Beverages\", \"Confectionery\", \"Intermediate Cocoa Products\"],\n",
    "          'manufacture and sale':[\"Bournvita and Hot Chocolate\", \"Tom Tom and Buttermint\", \"cocoa powder, cocoa butter, cocoa liquor and cocoa cake\"],\n",
    "          'Brands':[\"CADBURY BOURNVITA and CADBURY 3-in-1 HOT CHOCOLATE\", \"TOMTOM CLASSIC, TOMTOM STRAWBERRY and BUTTERMINT\", \"COCOA POWDER and COCOA BUTTER\"]\n",
    "         }\n",
    "df = pd.DataFrame(record)\n",
    "\n",
    "df[['segments', 'manufacture and sale', 'Brands']]\n",
    "        "
   ]
  },
  {
   "cell_type": "markdown",
   "id": "ef916da1-a5bd-41be-b8c3-67f3a17c9087",
   "metadata": {},
   "source": [
    "# project 1"
   ]
  },
  {
   "cell_type": "code",
   "execution_count": 42,
   "id": "4fe97010-c078-4cc4-8c3f-fb798d456734",
   "metadata": {},
   "outputs": [
    {
     "name": "stdout",
     "output_type": "stream",
     "text": [
      "        Date    Price     Open     High      Low     Vol. Change %\n",
      "0  25-Mar-22  44331.0  44013.0  45112.0  43622.0  494.09M    0.72%\n",
      "1  24-Mar-22  44013.0  42911.0  44251.0  42658.0  491.66M    2.57%\n",
      "2  23-Mar-22  42912.0  42373.0  43027.0  41795.0  433.96M    1.27%\n",
      "3  22-Mar-22  42373.0  41022.0  43327.9  40893.0  537.06M    3.29%\n",
      "4  21-Mar-22  41022.0  41282.0  41532.0  40530.0  406.62M   -0.62%\n",
      "5  20-Mar-22  41276.0  42241.0  42301.0  40922.0  308.45M   -2.27%\n",
      "6  19-Mar-22  42233.0  41768.0  42386.0  41529.6  224.59M    1.11%\n",
      "\n",
      "\n",
      "        Week  Python  Java  C++\n",
      "0  4/21/2019      55    55   18\n",
      "1  4/28/2019      52    50   16\n",
      "2   5/5/2019      56    56   17\n",
      "3  5/12/2019      56    61   18\n",
      "4  5/19/2019      57    56   17\n",
      "5  5/26/2019      55    57   17\n",
      "6   6/2/2019      54    58   15\n",
      "\n",
      "\n",
      "        Date    Price     Open     High      Low     Vol. Change %\n",
      "0  25-Mar-22  44331.0  44013.0  45112.0  43622.0  494.09M    0.72%\n",
      "1  24-Mar-22  44013.0  42911.0  44251.0  42658.0  491.66M    2.57%\n",
      "2  23-Mar-22  42912.0  42373.0  43027.0  41795.0  433.96M    1.27%\n",
      "\n",
      "\n",
      "        Week  Python  Java  C++\n",
      "0  4/21/2019      55    55   18\n",
      "1  4/28/2019      52    50   16\n",
      "2   5/5/2019      56    56   17\n",
      "\n",
      "\n",
      "        Date    Price     Open     High      Low     Vol. Change %\n",
      "0  25-Mar-22  44331.0  44013.0  45112.0  43622.0  494.09M    0.72%\n",
      "\n",
      "\n",
      "        Week  Python  Java  C++\n",
      "0  4/21/2019      55    55   18\n",
      "\n",
      "\n"
     ]
    }
   ],
   "source": [
    "import pandas as pd\n",
    " \n",
    "# making data frame from csv file\n",
    "BTC = pd.read_csv(\"C:/Users/USER/Documents/BTC_DATA_V3.0.csv\")\n",
    "TREND = pd.read_csv(\"C:/Users/USER/Documents/programming language trend over time.csv\")\n",
    "\n",
    "\n",
    "# Extract the first row as a DataFrame\n",
    "bf = BTC.iloc\n",
    "tf = TREND.iloc\n",
    "\n",
    "\n",
    "# Print the DataFrame\n",
    "print(bf[:7])\n",
    "print(\"\\n\")  \n",
    "print(tf[:7])\n",
    "print(\"\\n\")  \n",
    "\n",
    "print(bf[:3])\n",
    "print(\"\\n\")  \n",
    "print(tf[:3])\n",
    "print(\"\\n\")  \n",
    "\n",
    "print(bf[:1])\n",
    "print(\"\\n\")  \n",
    "print(tf[:1])\n",
    "print(\"\\n\")  \n",
    "\n",
    "\n"
   ]
  },
  {
   "cell_type": "markdown",
   "id": "21a1b91c-5426-4300-9547-b2a1f6326b16",
   "metadata": {},
   "source": [
    "# there was no excel for google play store"
   ]
  },
  {
   "cell_type": "code",
   "execution_count": null,
   "id": "df790ea1-03a8-4270-ae91-e3a1d082ab1d",
   "metadata": {},
   "outputs": [],
   "source": []
  }
 ],
 "metadata": {
  "kernelspec": {
   "display_name": "Python 3 (ipykernel)",
   "language": "python",
   "name": "python3"
  },
  "language_info": {
   "codemirror_mode": {
    "name": "ipython",
    "version": 3
   },
   "file_extension": ".py",
   "mimetype": "text/x-python",
   "name": "python",
   "nbconvert_exporter": "python",
   "pygments_lexer": "ipython3",
   "version": "3.11.7"
  }
 },
 "nbformat": 4,
 "nbformat_minor": 5
}
