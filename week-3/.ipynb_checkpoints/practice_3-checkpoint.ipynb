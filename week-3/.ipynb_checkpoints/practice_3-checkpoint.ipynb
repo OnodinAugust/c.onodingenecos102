{
 "cells": [
  {
   "cell_type": "code",
   "execution_count": 3,
   "id": "8c5098d1-ae62-4da8-84bf-cc456fd8bed2",
   "metadata": {},
   "outputs": [
    {
     "ename": "SyntaxError",
     "evalue": "invalid syntax (2666977850.py, line 4)",
     "output_type": "error",
     "traceback": [
      "\u001b[1;36m  Cell \u001b[1;32mIn[3], line 4\u001b[1;36m\u001b[0m\n\u001b[1;33m    print(list)           ''' Prints complete list '''\u001b[0m\n\u001b[1;37m                          ^\u001b[0m\n\u001b[1;31mSyntaxError\u001b[0m\u001b[1;31m:\u001b[0m invalid syntax\n"
     ]
    }
   ],
   "source": [
    "list = [ 'Anaconda', 786 , 2.23, 'Jupyter', 70.2]\n",
    "shorlist = [321, 'Python']\n",
    "\n",
    "print(list)           # Prints complete list \n",
    "print(list[0]         # Prints first element of the list\n",
    "print(list[1:3])      # Prints elements startinf from 2nd till 3rd\n",
    "print(list[2:])       # Prints elements starting from 3rd element\n",
    "print(shorlist * 2)    # Prints list two times\n",
    "print(list + shorlist) # Prints concatenated lists"
   ]
  },
  {
   "cell_type": "code",
   "execution_count": null,
   "id": "5403d186-636e-4642-90fe-cc4ef50c389b",
   "metadata": {},
   "outputs": [],
   "source": []
  }
 ],
 "metadata": {
  "kernelspec": {
   "display_name": "Python 3 (ipykernel)",
   "language": "python",
   "name": "python3"
  },
  "language_info": {
   "codemirror_mode": {
    "name": "ipython",
    "version": 3
   },
   "file_extension": ".py",
   "mimetype": "text/x-python",
   "name": "python",
   "nbconvert_exporter": "python",
   "pygments_lexer": "ipython3",
   "version": "3.11.7"
  }
 },
 "nbformat": 4,
 "nbformat_minor": 5
}
