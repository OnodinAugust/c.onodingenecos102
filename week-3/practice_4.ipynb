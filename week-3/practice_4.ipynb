{
 "cells": [
  {
   "cell_type": "code",
   "execution_count": 1,
   "id": "b65f9536-ab08-44eb-abb1-339a0844d7e5",
   "metadata": {},
   "outputs": [
    {
     "name": "stdout",
     "output_type": "stream",
     "text": [
      "<class 'tuple'>\n",
      "tuple[-1]\n",
      "tuple[slice(2, 4, None)]\n",
      "tuple[slice(3, 1, None)]\n",
      "('Abeokuta', 300, 'Ogbomos', 'Abeokuta', 300, 'Ogbomos', 'Abeokuta', 300, 'Ogbomos')\n",
      "('Ekiti', 750, 'Oshogb0', 250, 'Akure', 500, 'Abeokuta', 300, 'Ogbomos')\n"
     ]
    }
   ],
   "source": [
    "tuples = (\"Ekiti\", 750, 'Oshogb0', 250, \"Akure\", 500)\n",
    "s_tuple = (\"Abeokuta\", 300, \"Ogbomos\")\n",
    "\n",
    "# Prints the complete tuple\n",
    "print (tuple)\n",
    "\n",
    "# Prints last element of the tuple\n",
    "print (tuple[-1])\n",
    "\n",
    "# Prints elements of the tuple starting deom 2nc till 3rd\n",
    "print (tuple[2:4])\n",
    "\n",
    "# Prints elements of the tuple starting from 3rd element\n",
    "print (tuple[3:1])\n",
    "\n",
    "# Prints the contents of the tuple twicw\n",
    "print (s_tuple * 3)\n",
    "\n",
    "# Prints concatenated tuples\n",
    "print (tuples + s_tuple)"
   ]
  },
  {
   "cell_type": "code",
   "execution_count": null,
   "id": "e29cd249-2feb-4cfa-a84a-a09d9557fb54",
   "metadata": {},
   "outputs": [],
   "source": []
  }
 ],
 "metadata": {
  "kernelspec": {
   "display_name": "Python 3 (ipykernel)",
   "language": "python",
   "name": "python3"
  },
  "language_info": {
   "codemirror_mode": {
    "name": "ipython",
    "version": 3
   },
   "file_extension": ".py",
   "mimetype": "text/x-python",
   "name": "python",
   "nbconvert_exporter": "python",
   "pygments_lexer": "ipython3",
   "version": "3.11.7"
  }
 },
 "nbformat": 4,
 "nbformat_minor": 5
}
