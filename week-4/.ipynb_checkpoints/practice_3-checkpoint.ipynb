{
 "cells": [
  {
   "cell_type": "code",
   "execution_count": 4,
   "id": "54f8ab56-8779-4704-8480-58777aeabc11",
   "metadata": {},
   "outputs": [
    {
     "name": "stdout",
     "output_type": "stream",
     "text": [
      "Welcome to the COUPE DE ESCRIVA 2023: FOOTBALL PICKD \n",
      "\n",
      "Madiba:  CHubby Obiora-Okafo\n",
      "Blue-Jays:  Christpher Uweh\n",
      "Cirok:  Alexander\n",
      "TSG Walker:  Ikechukwu\n",
      "\n",
      "\n",
      "Madiba:  Chubby Obiora-Okafor\n",
      "Blue-Jays:  Oladimeji Abaniwondea/Jeffery Awagu\n",
      "Cirok:  Timileyib Pearse/Izuako Jeremy\n",
      "TSG Walkers:  Ayomide Ojituku\n"
     ]
    }
   ],
   "source": [
    "# COUPE DE ESCRIVA 2023: FOOTBALL PICKS\n",
    "\n",
    "print(\"Welcome to the COUPE DE ESCRIVA 2023: FOOTBALL PICKD \\n\")\n",
    "\n",
    "captain = {'Madiba: ': 'CHubby Obiora-Okafo', 'Blue-Jays: ': 'Christpher Uweh',\n",
    "           'Cirok: ': 'Alexander', 'TSG Walker: ': 'Ikechukwu'}\n",
    "\n",
    "goalkeepers = {'Madiba: ': 'Chubby Obiora-Okafor',\n",
    "              'Blue-Jays: ': 'Oladimeji Abaniwondea/Jeffery Awagu',\n",
    "              'Cirok: ': 'Timileyib Pearse/Izuako Jeremy',\n",
    "              'TSG Walkers: ': 'Ayomide Ojituku'}\n",
    "\n",
    "for pick in captain:\n",
    "    print(pick, captain[pick])\n",
    "\n",
    "print(\"\\n\")\n",
    "\n",
    "for pick in goalkeepers:\n",
    "    print(pick, goalkeepers[pick])\n",
    "\n"
   ]
  },
  {
   "cell_type": "code",
   "execution_count": null,
   "id": "d8b5271e-3424-4088-a30a-f13161aec381",
   "metadata": {},
   "outputs": [],
   "source": []
  }
 ],
 "metadata": {
  "kernelspec": {
   "display_name": "Python 3 (ipykernel)",
   "language": "python",
   "name": "python3"
  },
  "language_info": {
   "codemirror_mode": {
    "name": "ipython",
    "version": 3
   },
   "file_extension": ".py",
   "mimetype": "text/x-python",
   "name": "python",
   "nbconvert_exporter": "python",
   "pygments_lexer": "ipython3",
   "version": "3.11.7"
  }
 },
 "nbformat": 4,
 "nbformat_minor": 5
}
