{
 "cells": [
  {
   "cell_type": "code",
   "execution_count": 2,
   "id": "b52e98ae-2d1c-49f7-8368-ac46441ff53b",
   "metadata": {},
   "outputs": [
    {
     "name": "stdout",
     "output_type": "stream",
     "text": [
      "Izifin Technology Fintech Company \n",
      "\n"
     ]
    },
    {
     "name": "stdin",
     "output_type": "stream",
     "text": [
      "Input the year of experience:  26\n",
      "Input your age:  78\n"
     ]
    }
   ],
   "source": [
    "print(\"Izifin Technology Fintech Company \\n\")\n",
    "\n",
    "exp = int(input(\"Input the year of experience: \"))\n",
    "age = int(input(\"Input your age: \"))\n",
    "\n",
    "if exp > 25 & age >= 55:\n",
    "    print(\"Annual Tax Revenue is equal to N5,600,000\")\n",
    "elif exp >  20 & age >= 45:\n",
    "    print(\"Annual Tax Revenue is equal to N4,480,000\")\n",
    "elif exp > 10 & age >= 35:\n",
    "    print(\"Annual Tax Revenue is equal to N1,500,000\")\n",
    "elif exp < 10 & age < 35:\n",
    "    print(\"Annual Tax Revenue is equal to N550,000\")\n",
    "\n",
    "\n"
   ]
  },
  {
   "cell_type": "code",
   "execution_count": null,
   "id": "93293aea-6478-425d-ac20-c4aad70a75e9",
   "metadata": {},
   "outputs": [],
   "source": []
  }
 ],
 "metadata": {
  "kernelspec": {
   "display_name": "Python 3 (ipykernel)",
   "language": "python",
   "name": "python3"
  },
  "language_info": {
   "codemirror_mode": {
    "name": "ipython",
    "version": 3
   },
   "file_extension": ".py",
   "mimetype": "text/x-python",
   "name": "python",
   "nbconvert_exporter": "python",
   "pygments_lexer": "ipython3",
   "version": "3.11.7"
  }
 },
 "nbformat": 4,
 "nbformat_minor": 5
}
